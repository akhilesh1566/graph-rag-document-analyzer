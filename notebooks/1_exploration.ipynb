{
 "cells": [
  {
   "cell_type": "markdown",
   "metadata": {},
   "source": [
    "# Graph RAG Document Analyzer - Exploration Notebook\n",
    "\n",
    "This notebook is for exploring and testing the Graph RAG functionality interactively."
   ]
  },
  {
   "cell_type": "markdown",
   "metadata": {},
   "source": [
    "## 1. Setup and Imports"
   ]
  },
  {
   "cell_type": "code",
   "execution_count": null,
   "metadata": {},
   "outputs": [],
   "source": [
    "# Add src to path for imports\n",
    "import sys\n",
    "import os\n",
    "sys.path.append('../src')\n",
    "\n",
    "# Load environment variables\n",
    "from dotenv import load_dotenv\n",
    "load_dotenv('../.env')\n",
    "\n",
    "# Core imports\n",
    "from loader import DocumentLoader\n",
    "from graph_builder import get_graph_connection, GraphBuilder\n",
    "from chains import create_graph_rag_chain\n",
    "\n",
    "print(\"✅ Setup complete!\")"
   ]
  },
  {
   "cell_type": "markdown",
   "metadata": {},
   "source": [
    "## 2. Document Loading and Chunking"
   ]
  },
  {
   "cell_type": "code",
   "execution_count": null,
   "metadata": {},
   "outputs": [],
   "source": [
    "# Load a sample document\n",
    "# Replace with your actual PDF path\n",
    "document_path = \"../data/sample_document.pdf\"  # Update this path\n",
    "\n",
    "# Check if file exists\n",
    "if os.path.exists(document_path):\n",
    "    loader = DocumentLoader(chunk_size=1000, chunk_overlap=200)\n",
    "    chunks = loader.load_and_chunk_document(document_path)\n",
    "    \n",
    "    # Get document statistics\n",
    "    stats = loader.get_document_stats(chunks)\n",
    "    print(f\"Document loaded successfully!\")\n",
    "    print(f\"Total chunks: {stats['total_chunks']}\")\n",
    "    print(f\"Total characters: {stats['total_chars']}\")\n",
    "    print(f\"Average chunk size: {stats['avg_chunk_size']}\")\n",
    "    print(f\"Source pages: {stats['source_pages']}\")\n",
    "    \n",
    "    # Show first chunk\n",
    "    print(\"\\n--- First Chunk Preview ---\")\n",
    "    print(chunks[0].page_content[:500] + \"...\")\n",
    "    print(f\"\\nChunk metadata: {chunks[0].metadata}\")\n",
    "    \n",
    "else:\n",
    "    print(f\"❌ Document not found at {document_path}\")\n",
    "    print(\"Please add a PDF file to the data/ directory and update the path above.\")"
   ]
  },
  {
   "cell_type": "markdown",
   "metadata": {},
   "source": [
    "## 3. Graph Database Connection"
   ]
  },
  {
   "cell_type": "code",
   "execution_count": null,
   "metadata": {},
   "outputs": [],
   "source": [
    "# Test graph database connection\n",
    "try:\n",
    "    graph_connection = get_graph_connection()\n",
    "    print(\"✅ Successfully connected to Neo4j!\")\n",
    "    \n",
    "    # Get current schema\n",
    "    schema = graph_connection.get_schema()\n",
    "    print(f\"\\nCurrent schema:\")\n",
    "    print(f\"Node labels: {schema['node_labels']}\")\n",
    "    print(f\"Relationships: {schema['relationships']}\")\n",
    "    print(f\"Properties: {schema['properties']}\")\n",
    "    \n",
    "except Exception as e:\n",
    "    print(f\"❌ Graph connection failed: {e}\")\n",
    "    print(\"Please ensure Neo4j is running and credentials are correct in .env file\")"
   ]
  },
  {
   "cell_type": "markdown",
   "metadata": {},
   "source": [
    "## 4. Build Knowledge Graph"
   ]
  },
  {
   "cell_type": "code",
   "execution_count": null,
   "metadata": {},
   "outputs": [],
   "source": [
    "# Build knowledge graph from document chunks\n",
    "if 'chunks' in locals() and 'graph_connection' in locals():\n",
    "    # Optional: Clear existing graph\n",
    "    clear_existing = input(\"Clear existing graph? (y/n): \").lower() == 'y'\n",
    "    if clear_existing:\n",
    "        graph_connection.clear_database()\n",
    "        print(\"🗑️ Cleared existing graph\")\n",
    "    \n",
    "    # Build graph\n",
    "    builder = GraphBuilder(graph_connection)\n",
    "    \n",
    "    # For testing, use only first few chunks\n",
    "    test_chunks = chunks[:5]  # Process first 5 chunks for faster testing\n",
    "    print(f\"Building graph from {len(test_chunks)} chunks...\")\n",
    "    \n",
    "    graph_stats = builder.build_graph_from_document(test_chunks)\n",
    "    \n",
    "    print(\"\\n✅ Graph building complete!\")\n",
    "    print(f\"Total nodes created: {graph_stats['total_nodes']}\")\n",
    "    print(f\"Total relationships created: {graph_stats['total_relationships']}\")\n",
    "    print(f\"Chunks processed: {graph_stats['chunks_processed']}\")\n",
    "    \n",
    "else:\n",
    "    print(\"❌ Please run the previous cells first to load document and connect to graph\")"
   ]
  },
  {
   "cell_type": "markdown",
   "metadata": {},
   "source": [
    "## 5. Test Graph RAG Queries"
   ]
  },
  {
   "cell_type": "code",
   "execution_count": null,
   "metadata": {},
   "outputs": [],
   "source": [
    "# Create Graph RAG chain for testing\n",
    "try:\n",
    "    rag_chain = create_graph_rag_chain()\n",
    "    print(\"✅ Graph RAG chain created successfully!\")\n",
    "    \n",
    "    # Get updated schema\n",
    "    print(\"\\nCurrent graph schema:\")\n",
    "    print(rag_chain.get_graph_schema())\n",
    "    \n",
    "except Exception as e:\n",
    "    print(f\"❌ Failed to create RAG chain: {e}\")"
   ]
  },
  {
   "cell_type": "code",
   "execution_count": null,
   "metadata": {},
   "outputs": [],
   "source": [
    "# Test simple queries\n",
    "test_questions = [\n",
    "    \"What entities are mentioned in the document?\",\n",
    "    \"What are the main topics discussed?\",\n",
    "    \"What relationships exist between the entities?\"\n",
    "]\n",
    "\n",
    "if 'rag_chain' in locals():\n",
    "    for i, question in enumerate(test_questions, 1):\n",
    "        print(f\"\\n--- Question {i}: {question} ---\")\n",
    "        try:\n",
    "            result = rag_chain.query(question)\n",
    "            print(f\"Answer: {result['answer']}\")\n",
    "            \n",
    "            if result.get('generated_cypher'):\n",
    "                print(f\"\\nGenerated Cypher: {result['generated_cypher']}\")\n",
    "                \n",
    "        except Exception as e:\n",
    "            print(f\"❌ Error: {e}\")\n",
    "else:\n",
    "    print(\"❌ Please run the previous cell to create the RAG chain first\")"
   ]
  },
  {
   "cell_type": "code",
   "execution_count": null,
   "metadata": {},
   "outputs": [],
   "source": [
    "# Interactive query testing\n",
    "print(\"Interactive Query Testing\")\n",
    "print(\"Type 'quit' to exit\")\n",
    "\n",
    "if 'rag_chain' in locals():\n",
    "    while True:\n",
    "        question = input(\"\\nEnter your question: \")\n",
    "        if question.lower() == 'quit':\n",
    "            break\n",
    "            \n",
    "        try:\n",
    "            result = rag_chain.query(question)\n",
    "            print(f\"\\nAnswer: {result['answer']}\")\n",
    "            \n",
    "            # Show debug info if available\n",
    "            if result.get('generated_cypher'):\n",
    "                show_debug = input(\"Show debug info? (y/n): \").lower() == 'y'\n",
    "                if show_debug:\n",
    "                    print(f\"\\nCypher Query: {result['generated_cypher']}\")\n",
    "                    print(f\"Raw Context: {result.get('raw_context', 'N/A')}\")\n",
    "                    \n",
    "        except Exception as e:\n",
    "            print(f\"❌ Error: {e}\")\n",
    "else:\n",
    "    print(\"❌ Please create the RAG chain first\")"
   ]
  },
  {
   "cell_type": "markdown",
   "metadata": {},
   "source": [
    "## 6. Cleanup"
   ]
  },
  {
   "cell_type": "code",
   "execution_count": null,
   "metadata": {},
   "outputs": [],
   "source": [
    "# Close graph connection\n",
    "if 'graph_connection' in locals():\n",
    "    graph_connection.close()\n",
    "    print(\"✅ Graph connection closed\")"
   ]
  }
 ],
 "metadata": {
  "kernelspec": {
   "display_name": "Python 3",
   "language": "python",
   "name": "python3"
  },
  "language_info": {
   "codemirror_mode": {
    "name": "ipython",
    "version": 3
   },
   "file_extension": ".py",
   "mimetype": "text/x-python",
   "name": "python",
   "nbconvert_exporter": "python",
   "pygments_lexer": "ipython3",
   "version": "3.8.0"
  }
 },
 "nbformat": 4,
 "nbformat_minor": 4
}